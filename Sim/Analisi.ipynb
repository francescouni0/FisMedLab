{
 "cells": [
  {
   "cell_type": "code",
   "execution_count": 14,
   "metadata": {},
   "outputs": [],
   "source": [
    "import numpy as np\n",
    "import pandas as pd\n",
    "import os\n",
    "import matplotlib.pyplot as plt \n",
    "from scipy.stats import norm\n",
    "\n",
    "dtype = np.float32  "
   ]
  },
  {
   "cell_type": "code",
   "execution_count": 15,
   "metadata": {},
   "outputs": [
    {
     "name": "stdout",
     "output_type": "stream",
     "text": [
      "            id    en[eV]      time[ns]     x[mm]     y[mm]\n",
      "0          5.0  2.600190  1.358385e+17  2.035875 -0.924359\n",
      "1          5.0  3.064859  1.358385e+17 -0.570541  1.036750\n",
      "2          5.0  2.633223  1.358385e+17 -5.410189 -0.604241\n",
      "3          5.0  3.094185  1.358385e+17  8.830222 -1.092700\n",
      "4          5.0  2.489396  1.358385e+17 -6.685343  0.866594\n",
      "...        ...       ...           ...       ...       ...\n",
      "974998  9998.0  2.524197  7.229280e+16  9.002086 -1.036580\n",
      "974999  9998.0  2.786639  7.229280e+16  3.806348  0.285298\n",
      "975000  9998.0  2.925833  7.229280e+16  4.672547 -0.111169\n",
      "975001  9998.0  2.560025  7.229280e+16 -1.945988  0.560432\n",
      "975002  9998.0  3.079938  7.229280e+16 -9.959304  0.489017\n",
      "\n",
      "[975003 rows x 5 columns]\n"
     ]
    }
   ],
   "source": [
    "\n",
    "            \n",
    "data = np.fromfile('build/detect1_-120.0.raw',dtype=dtype) \n",
    "# Reshape the array into three columns\n",
    "num_cols = 5\n",
    "num_rows = len(data) // num_cols\n",
    "data = data.reshape((num_rows, num_cols))\n",
    "\n",
    "# Access the columns as separate arrays\n",
    "col1 = data[:, 0]\n",
    "col2 = data[:, 1]\n",
    "col3 = data[:, 2]\n",
    "col4 = data[:, 3]\n",
    "col5 = data[:, 4]  # Replace with your own data extraction logic\n",
    "\n",
    "# Append extracted data to the column data\n",
    "m120_1=pd.DataFrame(data, columns=['id','en[eV]','time[ns]','x[mm]','y[mm]'])  \n",
    "\n",
    "print(m120_1)"
   ]
  },
  {
   "cell_type": "code",
   "execution_count": 16,
   "metadata": {},
   "outputs": [
    {
     "name": "stdout",
     "output_type": "stream",
     "text": [
      "             id    en[eV]      time[ns]     x[mm]     y[mm]\n",
      "0           5.0  3.042752  1.358385e+17  3.856493  0.632085\n",
      "1           5.0  2.457080  1.358385e+17  5.054357  1.474710\n",
      "2           5.0  2.914461  1.358385e+17  5.147608  1.335685\n",
      "3           5.0  2.766610  1.358385e+17 -8.013703  0.808711\n",
      "4           5.0  2.612013  1.358385e+17  7.933535  1.319648\n",
      "...         ...       ...           ...       ...       ...\n",
      "1793871  9998.0  2.759597  7.229280e+16  3.997172  0.734977\n",
      "1793872  9998.0  3.019742  7.229280e+16 -2.682243  0.328570\n",
      "1793873  9998.0  2.548714  7.229280e+16 -6.375659 -0.681362\n",
      "1793874  9998.0  2.614773  7.229280e+16 -6.182775 -1.001745\n",
      "1793875  9998.0  2.407699  7.229280e+16  8.328715  0.565097\n",
      "\n",
      "[1793876 rows x 5 columns]\n"
     ]
    }
   ],
   "source": [
    "data = np.fromfile('build/detect2_-120.0.raw', dtype=dtype)\n",
    "# Reshape the array into three columns\n",
    "num_cols = 5\n",
    "num_rows = len(data) // num_cols\n",
    "data = data.reshape((num_rows, num_cols))\n",
    "\n",
    "# Access the columns as separate arrays\n",
    "col1 = data[:, 0]\n",
    "col2 = data[:, 1]\n",
    "col3 = data[:, 2]\n",
    "col4 = data[:, 3]\n",
    "col5 = data[:, 4]  # Replace with your own data extraction logic\n",
    "\n",
    "# Append extracted data to the column data\n",
    "m120_2=pd.DataFrame(data, columns=['id','en[eV]','time[ns]','x[mm]','y[mm]'])  \n",
    "\n",
    "print(m120_2)"
   ]
  },
  {
   "cell_type": "code",
   "execution_count": 17,
   "metadata": {},
   "outputs": [
    {
     "name": "stdout",
     "output_type": "stream",
     "text": [
      "             id    en[eV]      time[ns]     x[mm]     y[mm]\n",
      "0           3.0  2.819057  5.726799e+16 -1.278165  0.712156\n",
      "1           3.0  3.091955  5.726799e+16  8.679089 -1.011684\n",
      "2           3.0  2.464461  5.726799e+16  6.379567 -0.393183\n",
      "3           3.0  2.859373  5.726799e+16  3.877275  1.075916\n",
      "4           3.0  2.558861  5.726799e+16 -7.479379  0.720904\n",
      "...         ...       ...           ...       ...       ...\n",
      "1849478  9999.0  2.719848  2.294630e+17 -2.224181 -0.057195\n",
      "1849479  9999.0  2.669983  2.294630e+17 -8.245827 -0.363929\n",
      "1849480  9999.0  2.681787  2.294630e+17 -1.981187 -1.439822\n",
      "1849481  9999.0  2.835670  2.294630e+17  5.512519  0.447224\n",
      "1849482  9999.0  2.429170  2.294630e+17 -1.799037  1.173620\n",
      "\n",
      "[1849483 rows x 5 columns]\n"
     ]
    }
   ],
   "source": [
    "data = np.fromfile('build/detect1_120.0.raw', dtype=dtype)\n",
    "# Reshape the array into three columns\n",
    "num_cols = 5\n",
    "num_rows = len(data) // num_cols\n",
    "data = data.reshape((num_rows, num_cols))\n",
    "\n",
    "# Access the columns as separate arrays\n",
    "col1 = data[:, 0]\n",
    "col2 = data[:, 1]\n",
    "col3 = data[:, 2]\n",
    "col4 = data[:, 3]\n",
    "col5 = data[:, 4]  # Replace with your own data extraction logic\n",
    "\n",
    "# Append extracted data to the column data\n",
    "p120_1=pd.DataFrame(data, columns=['id','en[eV]','time[ns]','x[mm]','y[mm]'])  \n",
    "\n",
    "print(p120_1)"
   ]
  },
  {
   "cell_type": "code",
   "execution_count": 18,
   "metadata": {},
   "outputs": [
    {
     "name": "stdout",
     "output_type": "stream",
     "text": [
      "             id    en[eV]      time[ns]     x[mm]     y[mm]\n",
      "0           3.0  2.914978  5.726799e+16  0.076765 -0.461995\n",
      "1           3.0  2.502275  5.726799e+16  8.064624  0.085880\n",
      "2           3.0  2.464713  5.726799e+16  5.818477 -0.709120\n",
      "3           3.0  3.031523  5.726799e+16 -4.953073  0.421421\n",
      "4           3.0  2.894074  5.726799e+16  6.128214  0.495835\n",
      "...         ...       ...           ...       ...       ...\n",
      "1004390  9999.0  2.733835  2.294630e+17 -7.760132  0.758584\n",
      "1004391  9999.0  2.827011  2.294630e+17  4.725231 -0.662840\n",
      "1004392  9999.0  2.417697  2.294630e+17  2.961620 -0.995450\n",
      "1004393  9999.0  2.805030  2.294630e+17 -0.189134  0.352249\n",
      "1004394  9999.0  3.041757  2.294630e+17 -0.073414 -0.766222\n",
      "\n",
      "[1004395 rows x 5 columns]\n"
     ]
    }
   ],
   "source": [
    "data = np.fromfile('build/detect2_120.0.raw', dtype=dtype)\n",
    "# Reshape the array into three columns\n",
    "num_cols = 5\n",
    "num_rows = len(data) // num_cols\n",
    "data = data.reshape((num_rows, num_cols))\n",
    "\n",
    "# Access the columns as separate arrays\n",
    "col1 = data[:, 0]\n",
    "col2 = data[:, 1]\n",
    "col3 = data[:, 2]\n",
    "col4 = data[:, 3]\n",
    "col5 = data[:, 4]  # Replace with your own data extraction logic\n",
    "\n",
    "# Append extracted data to the column data\n",
    "p120_2=pd.DataFrame(data, columns=['id','en[eV]','time[ns]','x[mm]','y[mm]'])  \n",
    "\n",
    "print(p120_2)"
   ]
  },
  {
   "cell_type": "code",
   "execution_count": 19,
   "metadata": {},
   "outputs": [
    {
     "name": "stdout",
     "output_type": "stream",
     "text": [
      "              id    en[eV]      time[ns]     x[mm]     y[mm]\n",
      "0            1.0  2.731808  5.632545e+15 -1.369334  0.020598\n",
      "1            1.0  2.767692  5.632545e+15 -7.324916  0.263205\n",
      "2            1.0  2.504389  5.632545e+15 -8.052527 -0.798263\n",
      "3            1.0  2.457868  5.632545e+15 -9.280791 -0.311088\n",
      "4            1.0  2.625211  5.632545e+15  2.375361  0.984879\n",
      "...          ...       ...           ...       ...       ...\n",
      "2039181  10000.0  1.971270  4.372468e+17 -8.627729  0.812769\n",
      "2039182  10000.0  2.651359  4.372468e+17  2.351169  0.614427\n",
      "2039183  10000.0  3.058207  4.372468e+17 -2.871727 -1.184242\n",
      "2039184  10000.0  3.094872  4.372468e+17  8.462781 -1.235887\n",
      "2039185  10000.0  2.657955  4.372468e+17  3.348393 -1.255300\n",
      "\n",
      "[2039186 rows x 5 columns]\n"
     ]
    }
   ],
   "source": [
    "data = np.fromfile('build/detect1_160.0.raw', dtype=dtype)\n",
    "# Reshape the array into three columns\n",
    "num_cols = 5\n",
    "num_rows = len(data) // num_cols\n",
    "data = data.reshape((num_rows, num_cols))\n",
    "\n",
    "# Access the columns as separate arrays\n",
    "col1 = data[:, 0]\n",
    "col2 = data[:, 1]\n",
    "col3 = data[:, 2]\n",
    "col4 = data[:, 3]\n",
    "col5 = data[:, 4]  # Replace with your own data extraction logic\n",
    "\n",
    "# Append extracted data to the column data\n",
    "p160_1=pd.DataFrame(data, columns=['id','en[eV]','time[ns]','x[mm]','y[mm]'])  \n",
    "\n",
    "print(p160_1)"
   ]
  },
  {
   "cell_type": "code",
   "execution_count": 20,
   "metadata": {},
   "outputs": [
    {
     "name": "stdout",
     "output_type": "stream",
     "text": [
      "             id    en[eV]      time[ns]     x[mm]     y[mm]\n",
      "0           1.0  2.563524  5.632545e+15  6.381813  0.285649\n",
      "1           1.0  2.486527  5.632545e+15 -4.072025 -0.994624\n",
      "2           1.0  2.779090  5.632545e+15 -5.167609  1.480083\n",
      "3           1.0  2.558683  5.632545e+15  9.493995  0.519606\n",
      "4           1.0  2.586744  5.632545e+15 -8.991281  0.449175\n",
      "...         ...       ...           ...       ...       ...\n",
      "900562  10000.0  2.973511  4.372468e+17 -8.460446 -0.845252\n",
      "900563  10000.0  2.895535  4.372468e+17  5.324783  0.590237\n",
      "900564  10000.0  2.841342  4.372468e+17 -6.349927  0.323470\n",
      "900565  10000.0  2.420997  4.372468e+17 -9.005649  0.786266\n",
      "900566  10000.0  2.627946  4.372468e+17 -7.503675  0.990678\n",
      "\n",
      "[900567 rows x 5 columns]\n"
     ]
    }
   ],
   "source": [
    "data = np.fromfile('build/detect2_160.0.raw', dtype=dtype)\n",
    "# Reshape the array into three columns\n",
    "num_cols = 5\n",
    "num_rows = len(data) // num_cols\n",
    "data = data.reshape((num_rows, num_cols))\n",
    "\n",
    "# Access the columns as separate arrays\n",
    "col1 = data[:, 0]\n",
    "col2 = data[:, 1]\n",
    "col3 = data[:, 2]\n",
    "col4 = data[:, 3]\n",
    "col5 = data[:, 4]  # Replace with your own data extraction logic\n",
    "\n",
    "# Append extracted data to the column data\n",
    "p160_2=pd.DataFrame(data, columns=['id','en[eV]','time[ns]','x[mm]','y[mm]'])  \n",
    "\n",
    "print(p160_2)"
   ]
  },
  {
   "cell_type": "code",
   "execution_count": 21,
   "metadata": {},
   "outputs": [
    {
     "name": "stdout",
     "output_type": "stream",
     "text": [
      "            id    en[eV]      time[ns]     x[mm]     y[mm]\n",
      "0          1.0  2.776031  2.195166e+17  8.263870 -1.410680\n",
      "1          1.0  2.417516  2.195166e+17 -6.186703 -1.468185\n",
      "2          1.0  2.674528  2.195166e+17 -9.957986 -0.794044\n",
      "3          1.0  2.889822  2.195166e+17  6.526377  1.347265\n",
      "4          1.0  3.040176  2.195166e+17  2.468542 -0.797988\n",
      "...        ...       ...           ...       ...       ...\n",
      "925351  9998.0  3.014783  2.821096e+17  0.233592 -0.168302\n",
      "925352  9998.0  2.828870  2.821096e+17 -8.450001  1.121465\n",
      "925353  9998.0  2.831879  2.821096e+17 -5.566679 -0.503382\n",
      "925354  9998.0  2.616274  2.821096e+17  0.203813 -1.349452\n",
      "925355  9998.0  2.561342  2.821096e+17  8.147171 -1.137975\n",
      "\n",
      "[925356 rows x 5 columns]\n"
     ]
    }
   ],
   "source": [
    "data = np.fromfile('build/detect1_-160.0.raw', dtype=dtype)\n",
    "# Reshape the array into three columns\n",
    "num_cols = 5\n",
    "num_rows = len(data) // num_cols\n",
    "data = data.reshape((num_rows, num_cols))\n",
    "\n",
    "# Access the columns as separate arrays\n",
    "col1 = data[:, 0]\n",
    "col2 = data[:, 1]\n",
    "col3 = data[:, 2]\n",
    "col4 = data[:, 3]\n",
    "col5 = data[:, 4]  # Replace with your own data extraction logic\n",
    "\n",
    "# Append extracted data to the column data\n",
    "m160_1=pd.DataFrame(data, columns=['id','en[eV]','time[ns]','x[mm]','y[mm]'])  \n",
    "\n",
    "print(m160_1)"
   ]
  },
  {
   "cell_type": "code",
   "execution_count": 22,
   "metadata": {},
   "outputs": [
    {
     "name": "stdout",
     "output_type": "stream",
     "text": [
      "             id    en[eV]      time[ns]     x[mm]     y[mm]\n",
      "0           1.0  2.486045  2.195166e+17 -2.925374  0.170623\n",
      "1           1.0  2.403357  2.195166e+17  0.250608 -0.232779\n",
      "2           1.0  2.502005  2.195166e+17 -4.029723 -0.844452\n",
      "3           1.0  2.972696  2.195166e+17  2.714492 -0.849695\n",
      "4           1.0  2.485986  2.195166e+17 -2.482233  1.430793\n",
      "...         ...       ...           ...       ...       ...\n",
      "2099908  9998.0  2.691738  2.821096e+17 -1.839775  0.207318\n",
      "2099909  9998.0  2.575270  2.821096e+17 -8.024994  0.958787\n",
      "2099910  9998.0  2.446252  2.821096e+17 -3.807948 -1.047053\n",
      "2099911  9998.0  2.961940  2.821096e+17 -3.260330  0.557550\n",
      "2099912  9998.0  3.042900  2.821096e+17 -0.285555 -0.389678\n",
      "\n",
      "[2099913 rows x 5 columns]\n"
     ]
    }
   ],
   "source": [
    "data = np.fromfile('build/detect2_-160.0.raw', dtype=dtype)\n",
    "# Reshape the array into three columns\n",
    "num_cols = 5\n",
    "num_rows = len(data) // num_cols\n",
    "data = data.reshape((num_rows, num_cols))\n",
    "\n",
    "# Access the columns as separate arrays\n",
    "col1 = data[:, 0]\n",
    "col2 = data[:, 1]\n",
    "col3 = data[:, 2]\n",
    "col4 = data[:, 3]\n",
    "col5 = data[:, 4]  # Replace with your own data extraction logic\n",
    "\n",
    "# Append extracted data to the column data\n",
    "m160_2=pd.DataFrame(data, columns=['id','en[eV]','time[ns]','x[mm]','y[mm]'])  \n",
    "\n",
    "print(m160_2)"
   ]
  },
  {
   "cell_type": "code",
   "execution_count": 23,
   "metadata": {},
   "outputs": [
    {
     "name": "stdout",
     "output_type": "stream",
     "text": [
      "             id    en[eV]      time[ns]     x[mm]     y[mm]\n",
      "0           1.0  3.014089  1.968716e+17 -3.200865 -1.491163\n",
      "1           1.0  2.793651  1.968716e+17  6.011681 -0.613434\n",
      "2           1.0  2.789630  1.968716e+17 -9.513695  0.467295\n",
      "3           1.0  3.057416  1.968716e+17 -7.951728 -0.320606\n",
      "4           1.0  2.807131  1.968716e+17  5.921104 -0.442014\n",
      "...         ...       ...           ...       ...       ...\n",
      "2309729  9993.0  2.669957  5.795977e+17  0.072951 -0.287829\n",
      "2309730  9993.0  2.832593  5.795977e+17  4.653685  0.655125\n",
      "2309731  9993.0  2.833667  5.795977e+17  6.372107  1.355944\n",
      "2309732  9993.0  3.083839  5.795977e+17 -1.152581  1.498535\n",
      "2309733  9993.0  2.515823  5.795977e+17 -5.279569  1.378349\n",
      "\n",
      "[2309734 rows x 5 columns]\n"
     ]
    }
   ],
   "source": [
    "data = np.fromfile('build/detect1_200.0.raw', dtype=dtype)\n",
    "# Reshape the array into three columns\n",
    "num_cols = 5\n",
    "num_rows = len(data) // num_cols\n",
    "data = data.reshape((num_rows, num_cols))\n",
    "\n",
    "# Access the columns as separate arrays\n",
    "col1 = data[:, 0]\n",
    "col2 = data[:, 1]\n",
    "col3 = data[:, 2]\n",
    "col4 = data[:, 3]\n",
    "col5 = data[:, 4]  # Replace with your own data extraction logic\n",
    "\n",
    "# Append extracted data to the column data\n",
    "p200_1=pd.DataFrame(data, columns=['id','en[eV]','time[ns]','x[mm]','y[mm]'])  \n",
    "\n",
    "print(p200_1)"
   ]
  },
  {
   "cell_type": "code",
   "execution_count": 24,
   "metadata": {},
   "outputs": [
    {
     "name": "stdout",
     "output_type": "stream",
     "text": [
      "            id    en[eV]      time[ns]     x[mm]     y[mm]\n",
      "0          1.0  2.423530  1.968716e+17  1.795695 -0.711290\n",
      "1          1.0  2.728756  1.968716e+17 -9.231942  1.280110\n",
      "2          1.0  2.423750  1.968716e+17 -4.544352  1.199065\n",
      "3          1.0  2.663964  1.968716e+17 -5.283308  1.328677\n",
      "4          1.0  2.437531  1.968716e+17 -8.554445  0.634655\n",
      "...        ...       ...           ...       ...       ...\n",
      "826012  9991.0  2.740156  1.012828e+17 -8.916468  0.943875\n",
      "826013  9991.0  2.561176  1.012828e+17  0.866354 -1.017513\n",
      "826014  9991.0  2.950454  1.012828e+17  2.301480 -1.000683\n",
      "826015  9991.0  2.987675  1.012828e+17 -5.166406  1.296439\n",
      "826016  9993.0  2.664553  5.795977e+17  1.248601  0.589889\n",
      "\n",
      "[826017 rows x 5 columns]\n"
     ]
    }
   ],
   "source": [
    "\n",
    "data = np.fromfile('build/detect2_200.0.raw', dtype=dtype)\n",
    "# Reshape the array into three columns\n",
    "num_cols = 5\n",
    "num_rows = len(data) // num_cols\n",
    "data = data.reshape((num_rows, num_cols))\n",
    "\n",
    "# Access the columns as separate arrays\n",
    "col1 = data[:, 0]\n",
    "col2 = data[:, 1]\n",
    "col3 = data[:, 2]\n",
    "col4 = data[:, 3]\n",
    "col5 = data[:, 4]  # Replace with your own data extraction logic\n",
    "\n",
    "# Append extracted data to the column data\n",
    "p200_2=pd.DataFrame(data, columns=['id','en[eV]','time[ns]','x[mm]','y[mm]'])  \n",
    "\n",
    "print(p200_2)"
   ]
  },
  {
   "cell_type": "code",
   "execution_count": 25,
   "metadata": {},
   "outputs": [
    {
     "name": "stdout",
     "output_type": "stream",
     "text": [
      "            id    en[eV]      time[ns]     x[mm]     y[mm]\n",
      "0          2.0  2.758595  1.303424e+17 -8.179824  1.092508\n",
      "1          2.0  2.568671  1.303424e+17 -1.927454 -0.956932\n",
      "2          2.0  2.614913  1.303424e+17 -5.037496 -1.040752\n",
      "3          2.0  2.789472  1.303424e+17 -3.030514  1.327589\n",
      "4          2.0  2.725270  1.303424e+17 -8.707733 -0.864407\n",
      "...        ...       ...           ...       ...       ...\n",
      "838264  9999.0  2.604913  6.059016e+13  0.939137 -0.642721\n",
      "838265  9999.0  2.779231  6.059016e+13  2.933957 -0.969703\n",
      "838266  9999.0  3.020618  6.059016e+13 -8.838709 -0.153871\n",
      "838267  9999.0  2.604393  6.059016e+13  0.856567 -0.337841\n",
      "838268  9999.0  2.473944  6.059016e+13 -6.268841  1.004549\n",
      "\n",
      "[838269 rows x 5 columns]\n"
     ]
    }
   ],
   "source": [
    "data = np.fromfile('build/detect1_-200.0.raw', dtype=dtype)\n",
    "# Reshape the array into three columns\n",
    "num_cols = 5\n",
    "num_rows = len(data) // num_cols\n",
    "data = data.reshape((num_rows, num_cols))\n",
    "\n",
    "# Access the columns as separate arrays\n",
    "col1 = data[:, 0]\n",
    "col2 = data[:, 1]\n",
    "col3 = data[:, 2]\n",
    "col4 = data[:, 3]\n",
    "col5 = data[:, 4]  # Replace with your own data extraction logic\n",
    "\n",
    "# Append extracted data to the column data\n",
    "m200_1=pd.DataFrame(data, columns=['id','en[eV]','time[ns]','x[mm]','y[mm]'])  \n",
    "\n",
    "print(m200_1)"
   ]
  },
  {
   "cell_type": "code",
   "execution_count": 26,
   "metadata": {},
   "outputs": [
    {
     "name": "stdout",
     "output_type": "stream",
     "text": [
      "             id    en[eV]      time[ns]     x[mm]     y[mm]\n",
      "0           2.0  2.890589  1.303424e+17 -5.731417 -1.160828\n",
      "1           2.0  2.639244  1.303424e+17 -1.630204 -0.670205\n",
      "2           2.0  2.807544  1.303424e+17 -6.950380 -0.688300\n",
      "3           2.0  2.813473  1.303424e+17  1.202349  0.883750\n",
      "4           2.0  2.610204  1.303424e+17 -7.059129  1.087210\n",
      "...         ...       ...           ...       ...       ...\n",
      "2347799  9999.0  2.932999  6.059016e+13 -6.831164 -1.121250\n",
      "2347800  9999.0  2.996946  6.059016e+13 -1.437042 -0.497014\n",
      "2347801  9999.0  3.012699  6.059016e+13 -1.836051 -0.310946\n",
      "2347802  9999.0  2.533869  6.059016e+13 -3.129418  0.855058\n",
      "2347803  9999.0  3.025507  6.059016e+13  5.146625  0.703669\n",
      "\n",
      "[2347804 rows x 5 columns]\n"
     ]
    }
   ],
   "source": [
    "data = np.fromfile('build/detect2_-200.0.raw', dtype=dtype)\n",
    "# Reshape the array into three columns\n",
    "num_cols = 5\n",
    "num_rows = len(data) // num_cols\n",
    "data = data.reshape((num_rows, num_cols))\n",
    "\n",
    "# Access the columns as separate arrays\n",
    "col1 = data[:, 0]\n",
    "col2 = data[:, 1]\n",
    "col3 = data[:, 2]\n",
    "col4 = data[:, 3]\n",
    "col5 = data[:, 4]  # Replace with your own data extraction logic\n",
    "\n",
    "# Append extracted data to the column data\n",
    "m200_2=pd.DataFrame(data, columns=['id','en[eV]','time[ns]','x[mm]','y[mm]'])  \n",
    "\n",
    "print(m200_2)"
   ]
  },
  {
   "cell_type": "code",
   "execution_count": 27,
   "metadata": {},
   "outputs": [
    {
     "name": "stdout",
     "output_type": "stream",
     "text": [
      "             id    en[eV]      time[ns]     x[mm]     y[mm]\n",
      "0           7.0  2.908813  7.190048e+16 -8.308835 -1.464020\n",
      "1           7.0  2.675662  7.190048e+16 -9.110407  0.632583\n",
      "2           7.0  2.770438  7.190048e+16 -8.629357 -0.976673\n",
      "3           7.0  2.496204  7.190048e+16  1.420194 -0.987627\n",
      "4           7.0  2.737403  7.190048e+16  7.007404 -1.260563\n",
      "...         ...       ...           ...       ...       ...\n",
      "1647632  9998.0  2.734471  9.422531e+15  1.496757  0.521276\n",
      "1647633  9998.0  2.662226  9.422531e+15  9.354640 -1.381094\n",
      "1647634  9998.0  2.774578  9.422531e+15 -3.043864 -0.161513\n",
      "1647635  9998.0  2.411167  9.422531e+15  6.002542 -0.839288\n",
      "1647636  9998.0  2.684311  9.422531e+15  2.156350  1.283466\n",
      "\n",
      "[1647637 rows x 5 columns]\n"
     ]
    }
   ],
   "source": [
    "data = np.fromfile('build/detect2_-80.0.raw', dtype=dtype)\n",
    "# Reshape the array into three columns\n",
    "num_cols = 5\n",
    "num_rows = len(data) // num_cols\n",
    "data = data.reshape((num_rows, num_cols))\n",
    "\n",
    "# Access the columns as separate arrays\n",
    "col1 = data[:, 0]\n",
    "col2 = data[:, 1]\n",
    "col3 = data[:, 2]\n",
    "col4 = data[:, 3]\n",
    "col5 = data[:, 4]  # Replace with your own data extraction logic\n",
    "\n",
    "# Append extracted data to the column data\n",
    "m80_2=pd.DataFrame(data, columns=['id','en[eV]','time[ns]','x[mm]','y[mm]'])  \n",
    "\n",
    "print(m80_2)"
   ]
  },
  {
   "cell_type": "code",
   "execution_count": 28,
   "metadata": {},
   "outputs": [
    {
     "name": "stdout",
     "output_type": "stream",
     "text": [
      "             id    en[eV]      time[ns]     x[mm]     y[mm]\n",
      "0           3.0  3.070407  3.290469e+16  6.294636 -0.060750\n",
      "1           3.0  2.888453  3.290469e+16 -4.467926 -0.659608\n",
      "2           3.0  2.854597  3.290469e+16 -1.325364 -0.243196\n",
      "3           3.0  2.527908  3.290469e+16  4.804973  0.647747\n",
      "4           3.0  2.729633  3.290469e+16  8.485110 -1.400589\n",
      "...         ...       ...           ...       ...       ...\n",
      "1094281  9998.0  2.851046  7.111014e+16 -9.676218 -1.236132\n",
      "1094282  9998.0  2.981848  7.111014e+16 -4.713830  0.901083\n",
      "1094283  9998.0  3.043047  7.111014e+16  8.654914 -0.884093\n",
      "1094284  9998.0  2.838346  7.111014e+16 -1.139531 -1.049018\n",
      "1094285  9998.0  2.467176  7.111014e+16 -6.718524  0.563796\n",
      "\n",
      "[1094286 rows x 5 columns]\n"
     ]
    }
   ],
   "source": [
    "data = np.fromfile('build/detect2_80.0.raw', dtype=dtype)\n",
    "# Reshape the array into three columns\n",
    "num_cols = 5\n",
    "num_rows = len(data) // num_cols\n",
    "data = data.reshape((num_rows, num_cols))\n",
    "\n",
    "# Access the columns as separate arrays\n",
    "col1 = data[:, 0]\n",
    "col2 = data[:, 1]\n",
    "col3 = data[:, 2]\n",
    "col4 = data[:, 3]\n",
    "col5 = data[:, 4]  # Replace with your own data extraction logic\n",
    "\n",
    "# Append extracted data to the column data\n",
    "p80_2=pd.DataFrame(data, columns=['id','en[eV]','time[ns]','x[mm]','y[mm]'])  \n",
    "\n",
    "print(p80_2)"
   ]
  },
  {
   "cell_type": "code",
   "execution_count": 29,
   "metadata": {},
   "outputs": [
    {
     "name": "stdout",
     "output_type": "stream",
     "text": [
      "             id    en[eV]      time[ns]     x[mm]     y[mm]\n",
      "0           7.0  2.497858  7.190048e+16 -1.807914 -0.434713\n",
      "1           7.0  3.008404  7.190048e+16  8.551730 -1.431427\n",
      "2           7.0  2.841130  7.190048e+16 -0.144434 -0.401797\n",
      "3           7.0  2.516284  7.190048e+16  2.621078 -0.010980\n",
      "4           7.0  2.884517  7.190048e+16 -6.330032 -0.708905\n",
      "...         ...       ...           ...       ...       ...\n",
      "1103334  9998.0  3.088616  9.422531e+15 -9.790275  0.938221\n",
      "1103335  9998.0  3.062993  9.422531e+15 -5.715225 -0.324608\n",
      "1103336  9998.0  2.939153  9.422531e+15 -6.305613  1.242241\n",
      "1103337  9998.0  2.731688  9.422531e+15 -4.853790 -0.986289\n",
      "1103338  9998.0  2.813988  9.422531e+15 -7.448060 -1.352845\n",
      "\n",
      "[1103339 rows x 5 columns]\n"
     ]
    }
   ],
   "source": [
    "data = np.fromfile('build/detect1_-80.0.raw', dtype=dtype)\n",
    "# Reshape the array into three columns\n",
    "num_cols = 5\n",
    "num_rows = len(data) // num_cols\n",
    "data = data.reshape((num_rows, num_cols))\n",
    "\n",
    "# Access the columns as separate arrays\n",
    "col1 = data[:, 0]\n",
    "col2 = data[:, 1]\n",
    "col3 = data[:, 2]\n",
    "col4 = data[:, 3]\n",
    "col5 = data[:, 4]  # Replace with your own data extraction logic\n",
    "\n",
    "# Append extracted data to the column data\n",
    "m80_1=pd.DataFrame(data, columns=['id','en[eV]','time[ns]','x[mm]','y[mm]'])  \n",
    "\n",
    "print(m80_1)"
   ]
  },
  {
   "cell_type": "code",
   "execution_count": 30,
   "metadata": {},
   "outputs": [
    {
     "name": "stdout",
     "output_type": "stream",
     "text": [
      "             id    en[eV]      time[ns]     x[mm]     y[mm]\n",
      "0           3.0  2.741571  3.290469e+16 -0.900758  0.003151\n",
      "1           3.0  2.704084  3.290469e+16 -7.712911 -0.169304\n",
      "2           3.0  3.016336  3.290469e+16  5.886696 -0.796826\n",
      "3           3.0  2.604876  3.290469e+16 -2.858706  1.432750\n",
      "4           3.0  2.561172  3.290469e+16 -7.517114 -0.687157\n",
      "...         ...       ...           ...       ...       ...\n",
      "1636228  9998.0  2.608422  7.111014e+16 -1.480091  0.239572\n",
      "1636229  9998.0  2.639866  7.111014e+16 -9.713350 -0.493449\n",
      "1636230  9998.0  2.620424  7.111014e+16 -0.836658  0.881163\n",
      "1636231  9998.0  2.787488  7.111014e+16 -0.286601 -0.625415\n",
      "1636232  9998.0  2.612938  7.111014e+16 -1.944234  0.278340\n",
      "\n",
      "[1636233 rows x 5 columns]\n"
     ]
    }
   ],
   "source": [
    "data = np.fromfile('build/detect1_80.0.raw', dtype=dtype)\n",
    "# Reshape the array into three columns\n",
    "num_cols = 5\n",
    "num_rows = len(data) // num_cols\n",
    "data = data.reshape((num_rows, num_cols))\n",
    "\n",
    "# Access the columns as separate arrays\n",
    "col1 = data[:, 0]\n",
    "col2 = data[:, 1]\n",
    "col3 = data[:, 2]\n",
    "col4 = data[:, 3]\n",
    "col5 = data[:, 4]  # Replace with your own data extraction logic\n",
    "\n",
    "# Append extracted data to the column data\n",
    "p80_1=pd.DataFrame(data, columns=['id','en[eV]','time[ns]','x[mm]','y[mm]'])  \n",
    "\n",
    "print(p80_1)"
   ]
  },
  {
   "cell_type": "code",
   "execution_count": 31,
   "metadata": {},
   "outputs": [
    {
     "name": "stdout",
     "output_type": "stream",
     "text": [
      "             id    en[eV]      time[ns]     x[mm]     y[mm]\n",
      "0           1.0  2.937311  6.609338e+15  8.467695 -0.580891\n",
      "1           1.0  2.400986  6.609338e+15 -9.189006  1.047205\n",
      "2           1.0  3.028611  6.609338e+15  4.021872 -1.492632\n",
      "3           1.0  2.544114  6.609338e+15 -5.358104 -0.120845\n",
      "4           1.0  2.852366  6.609338e+15 -0.256671  0.605020\n",
      "...         ...       ...           ...       ...       ...\n",
      "1183390  9999.0  2.437072  2.548738e+14 -3.551460 -1.296620\n",
      "1183391  9999.0  2.670167  2.548738e+14  4.590717 -0.323760\n",
      "1183392  9999.0  2.881166  2.548738e+14  7.662631 -1.042860\n",
      "1183393  9999.0  3.038714  2.548738e+14  2.511909  0.152342\n",
      "1183394  9999.0  2.691155  2.548738e+14 -1.026533  0.803890\n",
      "\n",
      "[1183395 rows x 5 columns]\n"
     ]
    }
   ],
   "source": [
    "data = np.fromfile('build/detect2_40.0.raw', dtype=dtype)\n",
    "# Reshape the array into three columns\n",
    "num_cols = 5\n",
    "num_rows = len(data) // num_cols\n",
    "data = data.reshape((num_rows, num_cols))\n",
    "\n",
    "# Access the columns as separate arrays\n",
    "col1 = data[:, 0]\n",
    "col2 = data[:, 1]\n",
    "col3 = data[:, 2]\n",
    "col4 = data[:, 3]\n",
    "col5 = data[:, 4]  # Replace with your own data extraction logic\n",
    "\n",
    "# Append extracted data to the column data\n",
    "p40_2=pd.DataFrame(data, columns=['id','en[eV]','time[ns]','x[mm]','y[mm]'])  \n",
    "\n",
    "print(p40_2)"
   ]
  },
  {
   "cell_type": "code",
   "execution_count": 32,
   "metadata": {},
   "outputs": [
    {
     "name": "stdout",
     "output_type": "stream",
     "text": [
      "             id    en[eV]      time[ns]     x[mm]     y[mm]\n",
      "0           5.0  2.531056  1.088476e+17  3.210619  0.771526\n",
      "1           5.0  2.957701  1.088476e+17  0.838187 -1.445646\n",
      "2           5.0  2.415354  1.088476e+17  6.191678  1.418819\n",
      "3           5.0  2.662038  1.088476e+17  4.931577  0.733426\n",
      "4           5.0  2.754802  1.088476e+17  2.206832 -1.029791\n",
      "...         ...       ...           ...       ...       ...\n",
      "1511292  9998.0  2.943276  1.688819e+17  2.582098  0.888930\n",
      "1511293  9998.0  3.045717  1.688819e+17 -4.879889  0.373612\n",
      "1511294  9998.0  2.656500  1.688819e+17 -1.008323  1.176561\n",
      "1511295  9998.0  2.906775  1.688819e+17  3.205175  1.144179\n",
      "1511296  9998.0  2.531283  1.688819e+17 -2.366396 -1.109738\n",
      "\n",
      "[1511297 rows x 5 columns]\n"
     ]
    }
   ],
   "source": [
    "data = np.fromfile('build/detect2_-40.0.raw', dtype=dtype)\n",
    "# Reshape the array into three columns\n",
    "num_cols = 5\n",
    "num_rows = len(data) // num_cols\n",
    "data = data.reshape((num_rows, num_cols))\n",
    "\n",
    "# Access the columns as separate arrays\n",
    "col1 = data[:, 0]\n",
    "col2 = data[:, 1]\n",
    "col3 = data[:, 2]\n",
    "col4 = data[:, 3]\n",
    "col5 = data[:, 4]  # Replace with your own data extraction logic\n",
    "\n",
    "# Append extracted data to the column data\n",
    "m40_2=pd.DataFrame(data, columns=['id','en[eV]','time[ns]','x[mm]','y[mm]'])  \n",
    "\n",
    "print(m40_2)"
   ]
  },
  {
   "cell_type": "code",
   "execution_count": 33,
   "metadata": {},
   "outputs": [
    {
     "name": "stdout",
     "output_type": "stream",
     "text": [
      "             id    en[eV]      time[ns]     x[mm]     y[mm]\n",
      "0           5.0  2.501837  1.088476e+17  0.207545 -0.132252\n",
      "1           5.0  2.912494  1.088476e+17  0.384193  1.273801\n",
      "2           5.0  2.482120  1.088476e+17  2.842990 -1.035147\n",
      "3           5.0  2.858103  1.088476e+17  0.056037  1.477652\n",
      "4           5.0  3.052807  1.088476e+17 -4.763187  0.041201\n",
      "...         ...       ...           ...       ...       ...\n",
      "1229731  9998.0  2.460102  1.688819e+17 -3.953013 -0.464635\n",
      "1229732  9998.0  2.648806  1.688819e+17 -2.951008  0.594891\n",
      "1229733  9998.0  3.056692  1.688819e+17  7.459286 -1.463825\n",
      "1229734  9998.0  2.907401  1.688819e+17 -0.439251 -0.326572\n",
      "1229735  9998.0  2.438962  1.688819e+17 -7.860759 -0.044033\n",
      "\n",
      "[1229736 rows x 5 columns]\n"
     ]
    }
   ],
   "source": [
    "data = np.fromfile('build/detect1_-40.0.raw', dtype=dtype)\n",
    "# Reshape the array into three columns\n",
    "num_cols = 5\n",
    "num_rows = len(data) // num_cols\n",
    "data = data.reshape((num_rows, num_cols))\n",
    "\n",
    "# Access the columns as separate arrays\n",
    "col1 = data[:, 0]\n",
    "col2 = data[:, 1]\n",
    "col3 = data[:, 2]\n",
    "col4 = data[:, 3]\n",
    "col5 = data[:, 4]  # Replace with your own data extraction logic\n",
    "\n",
    "# Append extracted data to the column data\n",
    "m40_1=pd.DataFrame(data, columns=['id','en[eV]','time[ns]','x[mm]','y[mm]'])  \n",
    "\n",
    "print(m40_1)"
   ]
  },
  {
   "cell_type": "code",
   "execution_count": 34,
   "metadata": {},
   "outputs": [
    {
     "name": "stdout",
     "output_type": "stream",
     "text": [
      "             id    en[eV]      time[ns]     x[mm]     y[mm]\n",
      "0           1.0  2.775377  6.609338e+15  7.475937 -0.189763\n",
      "1           1.0  2.974153  6.609338e+15  1.814622  1.317573\n",
      "2           1.0  2.583327  6.609338e+15 -4.188787 -0.783993\n",
      "3           1.0  3.044399  6.609338e+15  7.854400  0.930588\n",
      "4           1.0  2.595092  6.609338e+15 -8.297400  0.040075\n",
      "...         ...       ...           ...       ...       ...\n",
      "1444622  9999.0  2.581685  2.548738e+14 -7.847086  0.711310\n",
      "1444623  9999.0  2.602696  2.548738e+14  0.314380 -1.041851\n",
      "1444624  9999.0  2.835019  2.548738e+14  4.075289  1.389709\n",
      "1444625  9999.0  2.774096  2.548738e+14 -8.168696 -1.304722\n",
      "1444626  9999.0  2.456900  2.548738e+14  8.128612  1.288677\n",
      "\n",
      "[1444627 rows x 5 columns]\n"
     ]
    }
   ],
   "source": [
    "data = np.fromfile('build/detect1_40.0.raw', dtype=dtype)\n",
    "# Reshape the array into three columns\n",
    "num_cols = 5\n",
    "num_rows = len(data) // num_cols\n",
    "data = data.reshape((num_rows, num_cols))\n",
    "\n",
    "# Access the columns as separate arrays\n",
    "col1 = data[:, 0]\n",
    "col2 = data[:, 1]\n",
    "col3 = data[:, 2]\n",
    "col4 = data[:, 3]\n",
    "col5 = data[:, 4]  # Replace with your own data extraction logic\n",
    "\n",
    "# Append extracted data to the column data\n",
    "p40_1=pd.DataFrame(data, columns=['id','en[eV]','time[ns]','x[mm]','y[mm]'])  \n",
    "\n",
    "print(p40_1)"
   ]
  },
  {
   "cell_type": "code",
   "execution_count": 35,
   "metadata": {},
   "outputs": [
    {
     "name": "stdout",
     "output_type": "stream",
     "text": [
      "             id    en[eV]      time[ns]     x[mm]     y[mm]\n",
      "0           1.0  3.074920  4.922117e+17  7.873481  1.084789\n",
      "1           1.0  2.818604  4.922117e+17  8.160186  0.633857\n",
      "2           1.0  2.425253  4.922117e+17 -4.955903  0.707476\n",
      "3           1.0  2.434561  4.922117e+17  4.051913 -0.086484\n",
      "4           1.0  2.738424  4.922117e+17  5.074451  0.107716\n",
      "...         ...       ...           ...       ...       ...\n",
      "1308955  9996.0  2.589885  7.405852e+16  3.284977  1.103279\n",
      "1308956  9996.0  2.462016  7.405852e+16 -2.354214 -0.537070\n",
      "1308957  9996.0  2.808357  7.405852e+16 -6.498441 -0.244821\n",
      "1308958  9996.0  3.028249  7.405852e+16  8.500445  0.470968\n",
      "1308959  9996.0  2.592350  7.405852e+16  7.193320 -0.825392\n",
      "\n",
      "[1308960 rows x 5 columns]\n"
     ]
    }
   ],
   "source": [
    "data = np.fromfile('build/detect1_0.0.raw', dtype=dtype)\n",
    "# Reshape the array into three columns\n",
    "num_cols = 5\n",
    "num_rows = len(data) // num_cols\n",
    "data = data.reshape((num_rows, num_cols))\n",
    "\n",
    "# Access the columns as separate arrays\n",
    "col1 = data[:, 0]\n",
    "col2 = data[:, 1]\n",
    "col3 = data[:, 2]\n",
    "col4 = data[:, 3]\n",
    "col5 = data[:, 4]  # Replace with your own data extraction logic\n",
    "\n",
    "# Append extracted data to the column data\n",
    "p0_1=pd.DataFrame(data, columns=['id','en[eV]','time[ns]','x[mm]','y[mm]'])  \n",
    "\n",
    "print(p0_1)"
   ]
  },
  {
   "cell_type": "code",
   "execution_count": 36,
   "metadata": {},
   "outputs": [
    {
     "name": "stdout",
     "output_type": "stream",
     "text": [
      "             id    en[eV]      time[ns]     x[mm]     y[mm]\n",
      "0           1.0  2.761034  4.922117e+17 -5.973209  0.705051\n",
      "1           1.0  2.418994  4.922117e+17  8.320189 -0.177249\n",
      "2           1.0  2.707025  4.922117e+17  6.744578 -0.543570\n",
      "3           1.0  2.958871  4.922117e+17  1.789995  1.068689\n",
      "4           1.0  2.667481  4.922117e+17  8.414438  1.123137\n",
      "...         ...       ...           ...       ...       ...\n",
      "1305568  9996.0  2.535687  7.405852e+16 -7.255909  1.070134\n",
      "1305569  9996.0  2.568220  7.405852e+16 -8.083798  1.047405\n",
      "1305570  9996.0  2.673904  7.405852e+16  0.309378 -1.135188\n",
      "1305571  9996.0  2.509387  7.405852e+16 -7.939525  0.661204\n",
      "1305572  9996.0  2.887447  7.405852e+16  7.529011 -0.386163\n",
      "\n",
      "[1305573 rows x 5 columns]\n"
     ]
    }
   ],
   "source": [
    "data = np.fromfile('build/detect2_0.0.raw', dtype=dtype)\n",
    "# Reshape the array into three columns\n",
    "num_cols = 5\n",
    "num_rows = len(data) // num_cols\n",
    "data = data.reshape((num_rows, num_cols))\n",
    "\n",
    "# Access the columns as separate arrays\n",
    "col1 = data[:, 0]\n",
    "col2 = data[:, 1]\n",
    "col3 = data[:, 2]\n",
    "col4 = data[:, 3]\n",
    "col5 = data[:, 4]  # Replace with your own data extraction logic\n",
    "\n",
    "# Append extracted data to the column data\n",
    "p0_2=pd.DataFrame(data, columns=['id','en[eV]','time[ns]','x[mm]','y[mm]'])  \n",
    "\n",
    "print(p0_2)"
   ]
  },
  {
   "cell_type": "code",
   "execution_count": 67,
   "metadata": {},
   "outputs": [
    {
     "data": {
      "image/png": "[encoded data removed]",
      "text/plain": [
       "<Figure size 640x480 with 1 Axes>"
      ]
     },
     "metadata": {},
     "output_type": "display_data"
    },
    {
     "name": "stdout",
     "output_type": "stream",
     "text": [
      "[1.17893461e+04 1.23663212e-03 1.10310131e-01]\n"
     ]
    }
   ],
   "source": [
    "from scipy.optimize import curve_fit    \n",
    "\n",
    "def gaussian(x, amp, mu, sig):\n",
    "    return amp * np.exp(-np.power(x - mu, 2.) / (2 * np.power(sig, 2.)))\n",
    "    \n",
    "\n",
    "tp40=(p40_1.iloc[:,2]-p40_2.iloc[:,2])\n",
    "tp40=tp40*1e-18\n",
    "\n",
    "n,bins,_=plt.hist(tp40,bins='auto', alpha=0.5, label='Histogram')\n",
    "\n",
    "bin_centers = (bins[:-1] + bins[1:]) / 2\n",
    "\n",
    "\n",
    "# Fit the histogram using curve_fit\n",
    "fit_params, _ = curve_fit(gaussian, bin_centers, n,p0=[20000,0.1,0.01])\n",
    "\n",
    "# Generate x values for plotting the fitted distribution\n",
    "x = np.linspace(-1, 1, 100000)\n",
    "\n",
    "\n",
    "# Plot the fitted distribution\n",
    "plt.plot(x, gaussian(x, *fit_params), 'r-', label='Fitted Distribution')\n",
    "\n",
    "# Add labels and legend\n",
    "plt.xlabel('Value')\n",
    "plt.ylabel('Density')\n",
    "plt.legend()\n",
    "\n",
    "# Show the plot\n",
    "plt.show()\n",
    "'''\n",
    "plt.plot(x,gaussian(x,20000,0,0.15), 'g-', label='prova')\n",
    "\n",
    "# Add labels and legend\n",
    "plt.xlabel('Value')\n",
    "plt.ylabel('Density')\n",
    "plt.legend()\n",
    "\n",
    "# Show the plot\n",
    "plt.show()\n",
    "'''\n",
    "\n",
    "print(fit_params)\n",
    "\n"
   ]
  },
  {
   "cell_type": "code",
   "execution_count": 38,
   "metadata": {},
   "outputs": [
    {
     "data": {
      "image/png": "[encoded data removed]",
      "text/plain": [
       "<Figure size 640x480 with 1 Axes>"
      ]
     },
     "metadata": {},
     "output_type": "display_data"
    }
   ],
   "source": [
    "tp80=(p80_1.iloc[:,2]-p160_2.iloc[:,2])\n",
    "\n",
    "plt.hist(tp80,bins='auto')\n",
    "plt.show()"
   ]
  },
  {
   "cell_type": "code",
   "execution_count": 39,
   "metadata": {},
   "outputs": [
    {
     "data": {
      "image/png": "[encoded data removed]",
      "text/plain": [
       "<Figure size 640x480 with 1 Axes>"
      ]
     },
     "metadata": {},
     "output_type": "display_data"
    }
   ],
   "source": [
    "tp120=(p120_1.iloc[:,2]-p120_2.iloc[:,2])\n",
    "\n",
    "plt.hist(tp120,bins='auto')\n",
    "plt.show()\n",
    "\n"
   ]
  },
  {
   "cell_type": "code",
   "execution_count": 40,
   "metadata": {},
   "outputs": [
    {
     "data": {
      "image/png": "[encoded data removed]",
      "text/plain": [
       "<Figure size 640x480 with 1 Axes>"
      ]
     },
     "metadata": {},
     "output_type": "display_data"
    }
   ],
   "source": [
    "tp160=(p160_1.iloc[:,2]-p160_2.iloc[:,2])\n",
    "\n",
    "plt.hist(tp160,bins='auto')\n",
    "plt.show()"
   ]
  },
  {
   "cell_type": "code",
   "execution_count": 41,
   "metadata": {},
   "outputs": [
    {
     "data": {
      "image/png": "[encoded data removed]",
      "text/plain": [
       "<Figure size 640x480 with 1 Axes>"
      ]
     },
     "metadata": {},
     "output_type": "display_data"
    }
   ],
   "source": [
    "tp200=(p200_1.iloc[:,2]-p200_2.iloc[:,2])\n",
    "\n",
    "\n",
    "plt.hist(tp200,bins='auto')\n",
    "plt.show()"
   ]
  },
  {
   "cell_type": "code",
   "execution_count": null,
   "metadata": {},
   "outputs": [],
   "source": []
  }
 ],
 "metadata": {
  "kernelspec": {
   "display_name": "Python 3",
   "language": "python",
   "name": "python3"
  },
  "language_info": {
   "codemirror_mode": {
    "name": "ipython",
    "version": 3
   },
   "file_extension": ".py",
   "mimetype": "text/x-python",
   "name": "python",
   "nbconvert_exporter": "python",
   "pygments_lexer": "ipython3",
   "version": "3.10.7"
  },
  "orig_nbformat": 4
 },
 "nbformat": 4,
 "nbformat_minor": 2
}
