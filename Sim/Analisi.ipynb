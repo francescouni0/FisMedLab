{
 "cells": [
  {
   "cell_type": "code",
   "execution_count": 18,
   "metadata": {},
   "outputs": [],
   "source": [
    "import numpy as np\n",
    "import pandas as pd"
   ]
  },
  {
   "cell_type": "code",
   "execution_count": 16,
   "metadata": {},
   "outputs": [],
   "source": [
    "\n",
    "# Specify the filename and data format\n",
    "filename = 'build/detect2_-40.0.raw'\n",
    "dtype = np.float32  # or whatever data type your data is in\n",
    "\n",
    "# Load the data into a NumPy array\n",
    "data = np.fromfile(filename, dtype=dtype)\n",
    "\n",
    "# Reshape the array into three columns\n",
    "num_cols = 5\n",
    "num_rows = len(data) // num_cols\n",
    "data = data.reshape((num_rows, num_cols))\n",
    "\n",
    "# Access the columns as separate arrays\n",
    "col1 = data[:, 0]\n",
    "col2 = data[:, 1]\n",
    "col3 = data[:, 2]\n",
    "col4 = data[:, 3]\n",
    "col5 = data[:, 4]\n",
    "\n"
   ]
  },
  {
   "cell_type": "code",
   "execution_count": 21,
   "metadata": {},
   "outputs": [
    {
     "data": {
      "text/html": [
       "<div>\n",
       "<style scoped>\n",
       "    .dataframe tbody tr th:only-of-type {\n",
       "        vertical-align: middle;\n",
       "    }\n",
       "\n",
       "    .dataframe tbody tr th {\n",
       "        vertical-align: top;\n",
       "    }\n",
       "\n",
       "    .dataframe thead th {\n",
       "        text-align: right;\n",
       "    }\n",
       "</style>\n",
       "<table border=\"1\" class=\"dataframe\">\n",
       "  <thead>\n",
       "    <tr style=\"text-align: right;\">\n",
       "      <th></th>\n",
       "      <th>id</th>\n",
       "      <th>en[eV]</th>\n",
       "      <th>time[ns]</th>\n",
       "      <th>x[mm]</th>\n",
       "      <th>y[mm]</th>\n",
       "    </tr>\n",
       "  </thead>\n",
       "  <tbody>\n",
       "    <tr>\n",
       "      <th>0</th>\n",
       "      <td>5.0</td>\n",
       "      <td>2.531056</td>\n",
       "      <td>1.088476e+17</td>\n",
       "      <td>3.210619</td>\n",
       "      <td>0.771526</td>\n",
       "    </tr>\n",
       "    <tr>\n",
       "      <th>1</th>\n",
       "      <td>5.0</td>\n",
       "      <td>2.957701</td>\n",
       "      <td>1.088476e+17</td>\n",
       "      <td>0.838187</td>\n",
       "      <td>-1.445646</td>\n",
       "    </tr>\n",
       "    <tr>\n",
       "      <th>2</th>\n",
       "      <td>5.0</td>\n",
       "      <td>2.415354</td>\n",
       "      <td>1.088476e+17</td>\n",
       "      <td>6.191678</td>\n",
       "      <td>1.418819</td>\n",
       "    </tr>\n",
       "    <tr>\n",
       "      <th>3</th>\n",
       "      <td>5.0</td>\n",
       "      <td>2.662038</td>\n",
       "      <td>1.088476e+17</td>\n",
       "      <td>4.931577</td>\n",
       "      <td>0.733426</td>\n",
       "    </tr>\n",
       "    <tr>\n",
       "      <th>4</th>\n",
       "      <td>5.0</td>\n",
       "      <td>2.754802</td>\n",
       "      <td>1.088476e+17</td>\n",
       "      <td>2.206832</td>\n",
       "      <td>-1.029791</td>\n",
       "    </tr>\n",
       "  </tbody>\n",
       "</table>\n",
       "</div>"
      ],
      "text/plain": [
       "    id    en[eV]      time[ns]     x[mm]     y[mm]\n",
       "0  5.0  2.531056  1.088476e+17  3.210619  0.771526\n",
       "1  5.0  2.957701  1.088476e+17  0.838187 -1.445646\n",
       "2  5.0  2.415354  1.088476e+17  6.191678  1.418819\n",
       "3  5.0  2.662038  1.088476e+17  4.931577  0.733426\n",
       "4  5.0  2.754802  1.088476e+17  2.206832 -1.029791"
      ]
     },
     "execution_count": 21,
     "metadata": {},
     "output_type": "execute_result"
    }
   ],
   "source": [
    "df=pd.DataFrame(data, columns=['id','en[eV]','time[ns]','x[mm]','y[mm]'])\n",
    "\n",
    "df.head()"
   ]
  }
 ],
 "metadata": {
  "kernelspec": {
   "display_name": "Python 3",
   "language": "python",
   "name": "python3"
  },
  "language_info": {
   "codemirror_mode": {
    "name": "ipython",
    "version": 3
   },
   "file_extension": ".py",
   "mimetype": "text/x-python",
   "name": "python",
   "nbconvert_exporter": "python",
   "pygments_lexer": "ipython3",
   "version": "3.10.7"
  },
  "orig_nbformat": 4
 },
 "nbformat": 4,
 "nbformat_minor": 2
}
