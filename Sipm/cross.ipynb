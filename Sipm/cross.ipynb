{
 "cells": [
  {
   "cell_type": "code",
   "execution_count": 2,
   "metadata": {},
   "outputs": [],
   "source": [
    "import matplotlib.pyplot as plt\n",
    "import numpy as np\n",
    "from scipy.optimize import leastsq, curve_fit\n",
    "from pathlib import Path\n",
    "from math import isclose\n",
    "\n",
    "Path.cwd()\n",
    "\n",
    "data1 = np.loadtxt('count55.txt')\n",
    "tresh1 = data1[:, 0]/75\n",
    "count1 = data1[:, 1]\n",
    "data1[:,0]= data1[:, 0]/75\n",
    "\n",
    "data2 = np.loadtxt('count56.txt')\n",
    "tresh2 = data2[:, 0]/118\n",
    "count2 = data2[:, 1]\n",
    "data2[:,0] = data2[:, 0]/118\n",
    "\n",
    "data3 = np.loadtxt('count57.txt')\n",
    "tresh3 = data3[:, 0]/138\n",
    "count3 = data3[:, 1]\n",
    "data3[:,0] = data3[:, 0]/138\n",
    "\n",
    "data4 = np.loadtxt('count58.txt')\n",
    "tresh4 = data4[:, 0]/175\n",
    "count4= data4[:, 1]\n",
    "data4[:,0] = data4[:, 0]/175\n",
    "\n",
    "\n",
    "data5 = np.loadtxt('count59.txt')\n",
    "tresh5 = data5[:, 0]/205\n",
    "count5 = data5[:, 1]\n",
    "data5[:,0] = data5[:, 0]/205\n",
    "\n",
    "\n",
    "datatef1 = np.loadtxt('counttef55.txt')\n",
    "treshtef1 = datatef1[:, 0]/75\n",
    "counttef1 = datatef1[:, 1]\n",
    "datatef1[:,0]= datatef1[:, 0]/75\n",
    "\n",
    "\n",
    "datatef2 = np.loadtxt('counttef56.txt')\n",
    "treshtef2 = datatef2[:, 0]/118\n",
    "counttef2 = datatef2[:, 1]\n",
    "datatef2[:,0] = datatef2[:, 0]/118\n",
    "\n",
    "\n",
    "datatef3 = np.loadtxt('counttef57.txt')\n",
    "treshtef3 = datatef3[:, 0]/138\n",
    "counttef3 = datatef3[:, 1]\n",
    "datatef3[:,0] = datatef3[:, 0]/138\n",
    "\n",
    "\n",
    "datatef4 = np.loadtxt('counttef58.txt')\n",
    "treshtef4 = datatef4[:, 0]/175\n",
    "counttef4= datatef4[:, 1]\n",
    "datatef4[:,0] = datatef4[:, 0]/175\n",
    "\n",
    "\n",
    "datatef5 = np.loadtxt('counttef59.txt')\n",
    "treshtef5 = datatef5[:, 0]/205\n",
    "counttef5 = datatef5[:, 1]\n",
    "datatef5[:,0] = datatef5[:, 0]/205"
   ]
  },
  {
   "cell_type": "code",
   "execution_count": 8,
   "metadata": {},
   "outputs": [
    {
     "name": "stdout",
     "output_type": "stream",
     "text": [
      "83699.0\n",
      "116697.5\n",
      "156126.0\n",
      "206390.5\n",
      "271575.0\n",
      "701.1376469709782\n",
      "589.01379440553\n",
      "1765.0385264917024\n",
      "3062.0255142633937\n",
      "4088.5446677271366\n"
     ]
    }
   ],
   "source": [
    "#CALCOLO BUIO\n",
    "a1=np.ma.masked_greater_equal(data1[:,0], 0.5)\n",
    "a2=np.ma.masked_greater_equal(data2[:,0], 0.5)\n",
    "a3=np.ma.masked_greater_equal(data3[:,0], 0.5)\n",
    "a4=np.ma.masked_greater_equal(data4[:,0], 0.5)\n",
    "a5=np.ma.masked_greater_equal(data5[:,0], 0.5)\n",
    "\n",
    "print(np.mean(data1[np.ma.getmask(a1),1][0:4]))\n",
    "print(np.mean(data2[np.ma.getmask(a2),1][0:4]))\n",
    "print(np.mean(data3[np.ma.getmask(a3),1][0:4]))\n",
    "print(np.mean(data4[np.ma.getmask(a4),1][0:4]))\n",
    "print(np.mean(data5[np.ma.getmask(a5),1][0:4]))\n",
    "\n",
    "print(np.std(data1[np.ma.getmask(a1),1][0:4]))\n",
    "print(np.std(data2[np.ma.getmask(a2),1][0:4]))\n",
    "print(np.std(data3[np.ma.getmask(a3),1][0:4]))\n",
    "print(np.std(data4[np.ma.getmask(a4),1][0:4]))\n",
    "print(np.std(data5[np.ma.getmask(a5),1][0:4]))\n",
    "\n"
   ]
  },
  {
   "cell_type": "code",
   "execution_count": 9,
   "metadata": {},
   "outputs": [
    {
     "name": "stdout",
     "output_type": "stream",
     "text": [
      "87433.25\n",
      "117977.5\n",
      "158434.25\n",
      "208770.75\n",
      "277776.0\n",
      "316.2920920604877\n",
      "450.8422673175176\n",
      "1646.508180210472\n",
      "2990.8885280966256\n",
      "4092.7937280053584\n"
     ]
    }
   ],
   "source": [
    "alfa1=np.ma.masked_greater_equal(datatef1[:,0], 0.5)\n",
    "alfa2=np.ma.masked_greater_equal(datatef2[:,0], 0.5)\n",
    "alfa3=np.ma.masked_greater_equal(datatef3[:,0], 0.5)\n",
    "alfa4=np.ma.masked_greater_equal(datatef4[:,0], 0.5)\n",
    "alfa5=np.ma.masked_greater_equal(datatef5[:,0], 0.5)\n",
    "\n",
    "print(np.mean(datatef1[np.ma.getmask(alfa1),1][0:4]))\n",
    "print(np.mean(datatef2[np.ma.getmask(alfa2),1][0:4]))\n",
    "print(np.mean(datatef3[np.ma.getmask(alfa3),1][0:4]))\n",
    "print(np.mean(datatef4[np.ma.getmask(alfa4),1][0:4]))\n",
    "print(np.mean(datatef5[np.ma.getmask(alfa5),1][0:4]))\n",
    "\n",
    "print(np.std(datatef1[np.ma.getmask(alfa1),1][0:4]))\n",
    "print(np.std(datatef2[np.ma.getmask(alfa2),1][0:4]))\n",
    "print(np.std(datatef3[np.ma.getmask(alfa3),1][0:4]))\n",
    "print(np.std(datatef4[np.ma.getmask(alfa4),1][0:4]))\n",
    "print(np.std(datatef5[np.ma.getmask(alfa5),1][0:4]))"
   ]
  }
 ],
 "metadata": {
  "kernelspec": {
   "display_name": "Python 3",
   "language": "python",
   "name": "python3"
  },
  "language_info": {
   "codemirror_mode": {
    "name": "ipython",
    "version": 3
   },
   "file_extension": ".py",
   "mimetype": "text/x-python",
   "name": "python",
   "nbconvert_exporter": "python",
   "pygments_lexer": "ipython3",
   "version": "3.10.7"
  },
  "orig_nbformat": 4
 },
 "nbformat": 4,
 "nbformat_minor": 2
}
